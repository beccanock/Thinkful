{
 "cells": [
  {
   "cell_type": "code",
   "execution_count": 18,
   "metadata": {
    "collapsed": true
   },
   "outputs": [],
   "source": [
    "import pandas as pd\n",
    "import numpy as np\n",
    "import matplotlib.pyplot as plt\n",
    "%matplotlib inline\n",
    "from numpy import nan"
   ]
  },
  {
   "cell_type": "markdown",
   "metadata": {},
   "source": [
    "# About the Data Set"
   ]
  },
  {
   "cell_type": "markdown",
   "metadata": {},
   "source": [
    "Data downloaded from: https://www.healthdata.gov/dataset/home-health-care-agencies\n",
    "\n",
    "About the data set: \"A list of all Home Health Agencies that have been registered with Medicare. The list includes addresses, phone numbers, and quality measure ratngs for each agency.\"\n",
    "\n",
    "The goal: This data set includes data on all home health agencies that are registered with Medicare, and the goal of this analysis is to explore what characteristics of a home health agency or quality metrics are predictive of high levels of hospital admissions and readmissions."
   ]
  },
  {
   "cell_type": "code",
   "execution_count": 19,
   "metadata": {
    "collapsed": false
   },
   "outputs": [],
   "source": [
    "home_health = pd.read_csv('Home_Health_Care_Agencies.csv')"
   ]
  },
  {
   "cell_type": "markdown",
   "metadata": {},
   "source": [
    "# Exploring The Data"
   ]
  },
  {
   "cell_type": "code",
   "execution_count": 20,
   "metadata": {
    "collapsed": false
   },
   "outputs": [
    {
     "data": {
      "text/plain": [
       "State                                                                                                                                                                                                                      AL\n",
       "CMS Certification Number (CCN)*                                                                                                                                                                                         17000\n",
       "Provider Name                                                                                                                                                                             BUREAU OF HOME & COMMUNITY SERVICES\n",
       "Address                                                                                                                                                                         201 MONROE STREET, THE RSA TOWER,  SUITE 1200\n",
       "City                                                                                                                                                                                                               MONTGOMERY\n",
       "Zip                                                                                                                                                                                                                     36104\n",
       "Phone                                                                                                                                                                                                              3342065341\n",
       "Type of Ownership                                                                                                                                                                                  Government - State/ County\n",
       "Offers Nursing Care Services                                                                                                                                                                                             True\n",
       "Offers Physical Therapy Services                                                                                                                                                                                         True\n",
       "Offers Occupational Therapy Services                                                                                                                                                                                     True\n",
       "Offers Speech Pathology Services                                                                                                                                                                                         True\n",
       "Offers Medical Social Services                                                                                                                                                                                           True\n",
       "Offers Home Health Aide Services                                                                                                                                                                                         True\n",
       "Date Certified                                                                                                                                                                                                         7/1/66\n",
       "Quality of Patient Care Star Rating                                                                                                                                                                             Not Available\n",
       "Footnote - Quality of Patient Care Star Rating                                                                                                                              This measure currently does not have data or p...\n",
       "How often the home health team began their patients' care in a timely manner                                                                                                                                              NaN\n",
       "Footnote for how often the home health team began their patients' care in a timely manner                                                                                   This measure currently does not have data or p...\n",
       "How often the home health team taught patients (or their family caregivers) about their drugs                                                                                                                             NaN\n",
       "Footnote for how often the home health team taught patients (or their family caregivers) about their drugs                                                                  This measure currently does not have data or p...\n",
       "How often the home health team checked patients' risk of falling                                                                                                                                                          NaN\n",
       "Footnote for how often the home health team checked patients' risk of falling                                                                                               This measure currently does not have data or p...\n",
       "How often the home health team checked patients for depression                                                                                                                                                            NaN\n",
       "Footnote for how often the home health team checked patients for depression                                                                                                 This measure currently does not have data or p...\n",
       "How often the home health team made sure that their patients have received a flu shot for the current flu season.                                                                                                         NaN\n",
       "Footnote for how often the home health team made sure that their patients have received a flu shot for the current flu season.                                              This measure currently does not have data or p...\n",
       "How often the home health team made sure that their patients have received a pneumococcal vaccine (pneumonia shot).                                                                                                       NaN\n",
       "Footnote as how often the home health team made sure that their patients have received a pneumococcal vaccine (pneumonia shot).                                             This measure currently does not have data or p...\n",
       "With diabetes, how often the home health team got doctor's orders, gave foot care, and taught patients about foot care                                                                                                    NaN\n",
       "                                                                                                                                                                                                  ...                        \n",
       "Footnote for how often the home health team treated heart failure (weakening of the heart) patients' symptoms                                                               This measure currently does not have data or p...\n",
       "How often the home health team took doctor-ordered action to prevent pressure sores (bed sores)                                                                                                                           NaN\n",
       "Footnote for how often the home health team took doctor-ordered action to prevent pressure sores (bed sores)                                                                This measure currently does not have data or p...\n",
       "How often the home health team included treatments to prevent pressure sores (bed sores) in the plan of care                                                                                                              NaN\n",
       "Footnote for how often the home health team included treatments to prevent pressure sores (bed sores) in the plan of care                                                   This measure currently does not have data or p...\n",
       "How often the home health team checked patients for the risk of developing pressure sores (bed sores)                                                                                                                     NaN\n",
       "Footnote for how often the home health team checked patients for the risk of developing pressure sores (bed sores)                                                          This measure currently does not have data or p...\n",
       "How often patients got better at walking or moving around                                                                                                                                                                 NaN\n",
       "Footnote for how often patients got better at walking or moving around                                                                                                      This measure currently does not have data or p...\n",
       "How often patients got better at getting in and out of bed                                                                                                                                                                NaN\n",
       "Footnote for how often patients got better at getting in and out of bed                                                                                                     This measure currently does not have data or p...\n",
       "How often patients got better at bathing                                                                                                                                                                                  NaN\n",
       "Footnote for how often patients got better at bathing                                                                                                                       This measure currently does not have data or p...\n",
       "How often patients had less pain when moving around                                                                                                                                                                       NaN\n",
       "Footnote for how often patients had less pain when moving around                                                                                                            This measure currently does not have data or p...\n",
       "How often patients' breathing improved                                                                                                                                                                                    NaN\n",
       "Footnote for how often patients' breathing improved                                                                                                                         This measure currently does not have data or p...\n",
       "How often patients' wounds improved or healed after an operation                                                                                                                                                          NaN\n",
       "Footnote for how often patients' wounds improved or healed after an operation                                                                                               This measure currently does not have data or p...\n",
       "How often patients got better at taking their drugs correctly by mouth                                                                                                                                                    NaN\n",
       "Footnote for how often patients got better at taking their drugs correctly by mouth                                                                                         This measure currently does not have data or p...\n",
       "How often home health patients had to be admitted to the hospital                                                                                                                                                         NaN\n",
       "Footnote for how often home health patients had to be admitted to the hospital                                                                                              This measure currently does not have data or p...\n",
       "How often patients receiving home health care needed urgent, unplanned care in the ER without being admitted                                                                                                              NaN\n",
       "Footnote for how often patients receiving home health care needed urgent, unplanned care in the ER without being admitted                                                   This measure currently does not have data or p...\n",
       "How often home health patients, who have had a recent hospital stay, had to be re-admitted to the hospital                                                                                                      Not Available\n",
       "Footnote for how often home health patients, who have had a recent hospital stay, had to be re-admitted to the hospital                                                     This measure currently does not have data or p...\n",
       "How often home health patients, who have had a recent hospital stay, received care in the hospital emergency room without being re-admitted to the hospital                                                     Not Available\n",
       "Footnote for how often home health patients, who have had a recent hospital stay, received care in the hospital emergency room without being re-admitted to the hospital    This measure currently does not have data or p...\n",
       "Footnote                                                                                                                                                                                                                     \n",
       "Name: 0, dtype: object"
      ]
     },
     "execution_count": 20,
     "metadata": {},
     "output_type": "execute_result"
    }
   ],
   "source": [
    "home_health.loc[0]"
   ]
  },
  {
   "cell_type": "code",
   "execution_count": 21,
   "metadata": {
    "collapsed": false
   },
   "outputs": [
    {
     "data": {
      "text/plain": [
       "(12159, 66)"
      ]
     },
     "execution_count": 21,
     "metadata": {},
     "output_type": "execute_result"
    }
   ],
   "source": [
    "home_health.shape"
   ]
  },
  {
   "cell_type": "code",
   "execution_count": 22,
   "metadata": {
    "collapsed": false
   },
   "outputs": [
    {
     "data": {
      "text/plain": [
       "Proprietary                                        9743\n",
       "Non - Profit Private                                867\n",
       "Non - Profit Other                                  593\n",
       "Non - Profit Religious                              385\n",
       "Government - State/ County                          383\n",
       "Government - Local                                  176\n",
       "Government - Combination Government & Voluntary      12\n",
       "Name: Type of Ownership, dtype: int64"
      ]
     },
     "execution_count": 22,
     "metadata": {},
     "output_type": "execute_result"
    }
   ],
   "source": [
    "home_health['Type of Ownership'].value_counts()"
   ]
  },
  {
   "cell_type": "code",
   "execution_count": 23,
   "metadata": {
    "collapsed": false
   },
   "outputs": [
    {
     "data": {
      "text/plain": [
       "TX    2617\n",
       "CA    1272\n",
       "FL    1135\n",
       "OH     783\n",
       "IL     758\n",
       "MI     627\n",
       "PA     427\n",
       "OK     265\n",
       "VA     236\n",
       "IN     233\n",
       "MA     225\n",
       "LA     205\n",
       "MN     202\n",
       "CO     184\n",
       "NC     177\n",
       "AR     172\n",
       "MO     171\n",
       "AZ     164\n",
       "IA     162\n",
       "AL     151\n",
       "NY     149\n",
       "TN     141\n",
       "NV     138\n",
       "WI     117\n",
       "KS     114\n",
       "GA     106\n",
       "KY     104\n",
       "UT      99\n",
       "CT      90\n",
       "NM      78\n",
       "NE      75\n",
       "SC      72\n",
       "WA      64\n",
       "WV      60\n",
       "OR      58\n",
       "MD      53\n",
       "NJ      47\n",
       "ID      46\n",
       "MS      46\n",
       "PR      45\n",
       "SD      33\n",
       "NH      33\n",
       "DC      27\n",
       "RI      27\n",
       "MT      27\n",
       "WY      26\n",
       "ME      26\n",
       "DE      24\n",
       "ND      19\n",
       "HI      17\n",
       "AK      13\n",
       "VT      11\n",
       "GU       4\n",
       "MP       2\n",
       "VI       2\n",
       "Name: State, dtype: int64"
      ]
     },
     "execution_count": 23,
     "metadata": {},
     "output_type": "execute_result"
    }
   ],
   "source": [
    "home_health['State'].value_counts()"
   ]
  },
  {
   "cell_type": "code",
   "execution_count": 24,
   "metadata": {
    "collapsed": false
   },
   "outputs": [
    {
     "data": {
      "text/plain": [
       "Not Available    2820\n",
       "3.5              1992\n",
       "3                1935\n",
       "2.5              1564\n",
       "4                1526\n",
       "2                 884\n",
       "4.5               834\n",
       "5                 317\n",
       "1.5               273\n",
       "1                  14\n",
       "Name: Quality of Patient Care Star Rating, dtype: int64"
      ]
     },
     "execution_count": 24,
     "metadata": {},
     "output_type": "execute_result"
    }
   ],
   "source": [
    "home_health['Quality of Patient Care Star Rating'].value_counts()"
   ]
  },
  {
   "cell_type": "markdown",
   "metadata": {},
   "source": [
    "# Exploring Dependent Variables"
   ]
  },
  {
   "cell_type": "markdown",
   "metadata": {},
   "source": [
    "Predict admissions/readmission:\n",
    "- How often home health patients had to be admitted to the hospital\n",
    "- How often home health patients, who have had a recent hospital stay, had to be re-admitted to the hospital"
   ]
  },
  {
   "cell_type": "code",
   "execution_count": 25,
   "metadata": {
    "collapsed": false
   },
   "outputs": [
    {
     "data": {
      "text/plain": [
       "16.7    125\n",
       "17.1    120\n",
       "16.3    120\n",
       "15.8    116\n",
       "15.3    114\n",
       "15.0    109\n",
       "16.1    108\n",
       "14.8    107\n",
       "16.0    107\n",
       "16.5    107\n",
       "17.5    106\n",
       "16.2    105\n",
       "16.6    103\n",
       "14.9    103\n",
       "15.2    102\n",
       "15.5    101\n",
       "16.9    101\n",
       "15.6     99\n",
       "14.5     98\n",
       "15.9     97\n",
       "16.4     96\n",
       "17.6     95\n",
       "14.6     93\n",
       "14.3     93\n",
       "17.2     93\n",
       "14.7     92\n",
       "15.4     92\n",
       "15.7     91\n",
       "16.8     91\n",
       "14.4     88\n",
       "       ... \n",
       "31.2      1\n",
       "32.6      1\n",
       "31.8      1\n",
       "30.6      1\n",
       "38.7      1\n",
       "30.5      1\n",
       "31.5      1\n",
       "32.5      1\n",
       "3.9       1\n",
       "29.1      1\n",
       "2.8       1\n",
       "36.3      1\n",
       "27.9      1\n",
       "0.9       1\n",
       "35.7      1\n",
       "34.9      1\n",
       "30.1      1\n",
       "36.7      1\n",
       "2.2       1\n",
       "27.6      1\n",
       "3.2       1\n",
       "36.6      1\n",
       "6.0       1\n",
       "5.0       1\n",
       "2.0       1\n",
       "33.0      1\n",
       "30.0      1\n",
       "29.0      1\n",
       "3.0       1\n",
       "32.1      1\n",
       "Name: How often home health patients had to be admitted to the hospital, dtype: int64"
      ]
     },
     "execution_count": 25,
     "metadata": {},
     "output_type": "execute_result"
    }
   ],
   "source": [
    "home_health['How often home health patients had to be admitted to the hospital'].value_counts()"
   ]
  },
  {
   "cell_type": "code",
   "execution_count": 26,
   "metadata": {
    "collapsed": false
   },
   "outputs": [
    {
     "data": {
      "text/plain": [
       "<matplotlib.axes._subplots.AxesSubplot at 0x11bd35250>"
      ]
     },
     "execution_count": 26,
     "metadata": {},
     "output_type": "execute_result"
    },
    {
     "data": {
      "image/png": "[encoded data removed]",
      "text/plain": [
       "<matplotlib.figure.Figure at 0x11b88bcd0>"
      ]
     },
     "metadata": {},
     "output_type": "display_data"
    }
   ],
   "source": [
    "home_health['How often home health patients had to be admitted to the hospital'].hist()"
   ]
  },
  {
   "cell_type": "code",
   "execution_count": 27,
   "metadata": {
    "collapsed": false
   },
   "outputs": [
    {
     "data": {
      "text/plain": [
       "Same As Expected        5898\n",
       "Not Available           5342\n",
       "Better Than Expected     494\n",
       "Worse Than Expected      425\n",
       "Name: How often home health patients, who have had a recent hospital stay, had to be re-admitted to the hospital, dtype: int64"
      ]
     },
     "execution_count": 27,
     "metadata": {},
     "output_type": "execute_result"
    }
   ],
   "source": [
    "home_health['How often home health patients, who have had a recent hospital stay, had to be re-admitted to the hospital'].value_counts()"
   ]
  },
  {
   "cell_type": "markdown",
   "metadata": {},
   "source": [
    "## Explore NaN and missing values in 2 Dependent Variables"
   ]
  },
  {
   "cell_type": "code",
   "execution_count": 28,
   "metadata": {
    "collapsed": false
   },
   "outputs": [
    {
     "name": "stdout",
     "output_type": "stream",
     "text": [
      "3325\n",
      "27.3459988486\n"
     ]
    }
   ],
   "source": [
    "q1_missing = home_health['How often home health patients had to be admitted to the hospital'].isnull().sum()\n",
    "print(q1_missing)\n",
    "q1_missing_percent = (float(q1_missing) / home_health.shape[0]) * 100\n",
    "print(q1_missing_percent)"
   ]
  },
  {
   "cell_type": "code",
   "execution_count": 29,
   "metadata": {
    "collapsed": false
   },
   "outputs": [
    {
     "name": "stdout",
     "output_type": "stream",
     "text": [
      "5342\n",
      "43.93453409\n"
     ]
    }
   ],
   "source": [
    "q2_missing = home_health['How often home health patients, who have had a recent hospital stay, had to be re-admitted to the hospital'].value_counts()['Not Available']\n",
    "print(q2_missing)\n",
    "q2_missing_percent = (float(q2_missing) / home_health.shape[0]) * 100\n",
    "print(q2_missing_percent)"
   ]
  },
  {
   "cell_type": "markdown",
   "metadata": {},
   "source": [
    "## How many rows are missing both dependent variables?"
   ]
  },
  {
   "cell_type": "code",
   "execution_count": 30,
   "metadata": {
    "collapsed": false
   },
   "outputs": [],
   "source": [
    "q1_missing_data = home_health[home_health['How often home health patients had to be admitted to the hospital'].isnull()]"
   ]
  },
  {
   "cell_type": "code",
   "execution_count": 31,
   "metadata": {
    "collapsed": false
   },
   "outputs": [],
   "source": [
    "q2_missing_data = home_health[home_health['How often home health patients, who have had a recent hospital stay, had to be re-admitted to the hospital']=='Not Available']"
   ]
  },
  {
   "cell_type": "markdown",
   "metadata": {
    "collapsed": false
   },
   "source": [
    "## Use list comprehensions to determine: \n",
    "Number of rows with q1_missing only\n",
    "\n",
    "Number of rows with q2_missing only\n",
    "\n",
    "Number of rows with both q1_missing and q2_missing\n"
   ]
  },
  {
   "cell_type": "markdown",
   "metadata": {
    "collapsed": false
   },
   "source": [
    "# Explore footnotes for Q1"
   ]
  },
  {
   "cell_type": "markdown",
   "metadata": {},
   "source": [
    "Footnotes provide information related to why a value is missing or not available"
   ]
  },
  {
   "cell_type": "code",
   "execution_count": 32,
   "metadata": {
    "collapsed": false
   },
   "outputs": [
    {
     "data": {
      "text/plain": [
       "The number of patient episodes for this measure is too small to report.                                         3825\n",
       "This measure currently does not have data or provider has been certified/recertified for less than 6 months.    1517\n",
       "Name: Footnote for how often home health patients, who have had a recent hospital stay, had to be re-admitted to the hospital, dtype: int64"
      ]
     },
     "execution_count": 32,
     "metadata": {},
     "output_type": "execute_result"
    }
   ],
   "source": [
    "home_health['Footnote for how often home health patients, who have had a recent hospital stay, had to be re-admitted to the hospital'].value_counts()"
   ]
  },
  {
   "cell_type": "markdown",
   "metadata": {
    "collapsed": false
   },
   "source": [
    "# Explore footnotes for Q2"
   ]
  },
  {
   "cell_type": "code",
   "execution_count": 33,
   "metadata": {
    "collapsed": false
   },
   "outputs": [
    {
     "data": {
      "text/plain": [
       "The number of patient episodes for this measure is too small to report.                                         2176\n",
       "This measure currently does not have data or provider has been certified/recertified for less than 6 months.    1149\n",
       "Name: Footnote for how often home health patients had to be admitted to the hospital, dtype: int64"
      ]
     },
     "execution_count": 33,
     "metadata": {},
     "output_type": "execute_result"
    }
   ],
   "source": [
    "home_health['Footnote for how often home health patients had to be admitted to the hospital'].value_counts()"
   ]
  },
  {
   "cell_type": "markdown",
   "metadata": {},
   "source": [
    "## Computing correlation between 2 dependent variables\n",
    "\n",
    "Q1 is continuous\n",
    "\n",
    "Q2 is categorical\n",
    "\n",
    "Need to convert Q1 to categorical"
   ]
  },
  {
   "cell_type": "code",
   "execution_count": 34,
   "metadata": {
    "collapsed": false
   },
   "outputs": [
    {
     "data": {
      "text/plain": [
       "<matplotlib.axes._subplots.AxesSubplot at 0x11bbb0890>"
      ]
     },
     "execution_count": 34,
     "metadata": {},
     "output_type": "execute_result"
    },
    {
     "data": {
      "image/png": "[encoded data removed]",
      "text/plain": [
       "<matplotlib.figure.Figure at 0x11c01dd50>"
      ]
     },
     "metadata": {},
     "output_type": "display_data"
    }
   ],
   "source": [
    "home_health['How often home health patients had to be admitted to the hospital'].hist()"
   ]
  },
  {
   "cell_type": "markdown",
   "metadata": {},
   "source": [
    "Categorical variable has 3 categories (Same As Expected, Better Than Expected, Worse Than Expected)"
   ]
  },
  {
   "cell_type": "markdown",
   "metadata": {},
   "source": [
    "## What is the expected % for 'How often home health patients had to be admitted to the hospital'?"
   ]
  },
  {
   "cell_type": "markdown",
   "metadata": {
    "collapsed": true
   },
   "source": [
    "# To Do"
   ]
  },
  {
   "cell_type": "markdown",
   "metadata": {},
   "source": [
    "- Look at correlation between continuous variables\n",
    "- Look at correlation between categorical variables\n",
    "- Pick features and complete logistic regression with each feature\n",
    "- Rank top 5-10 features"
   ]
  },
  {
   "cell_type": "code",
   "execution_count": null,
   "metadata": {
    "collapsed": true
   },
   "outputs": [],
   "source": []
  }
 ],
 "metadata": {
  "kernelspec": {
   "display_name": "Python 2",
   "language": "python",
   "name": "python2"
  },
  "language_info": {
   "codemirror_mode": {
    "name": "ipython",
    "version": 2
   },
   "file_extension": ".py",
   "mimetype": "text/x-python",
   "name": "python",
   "nbconvert_exporter": "python",
   "pygments_lexer": "ipython2",
   "version": "2.7.11"
  }
 },
 "nbformat": 4,
 "nbformat_minor": 0
}
