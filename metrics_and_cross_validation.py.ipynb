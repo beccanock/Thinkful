{
 "cells": [
  {
   "cell_type": "markdown",
   "metadata": {},
   "source": [
    "Take the loan data and process it as you did previously to build your linear regression model."
   ]
  },
  {
   "cell_type": "code",
   "execution_count": 1,
   "metadata": {
    "collapsed": true
   },
   "outputs": [],
   "source": [
    "import pandas as pd\n",
    "import matplotlib.pyplot as plt\n",
    "import statsmodels.api as sm\n",
    "import numpy as np"
   ]
  },
  {
   "cell_type": "code",
   "execution_count": 2,
   "metadata": {
    "collapsed": true
   },
   "outputs": [],
   "source": [
    "#Import Data\n",
    "loansData = pd.read_csv('https://github.com/Thinkful-Ed/curric-data-001-data-sets/raw/master/loans/loansData.csv')"
   ]
  },
  {
   "cell_type": "code",
   "execution_count": 3,
   "metadata": {
    "collapsed": true
   },
   "outputs": [],
   "source": [
    "#Clean Data\n",
    "loansData['Interest.Rate'] = map(lambda x: x.rstrip('%'), loansData['Interest.Rate'])\n",
    "loansData['Loan.Length'] = map(lambda x: x.rstrip(' months'), loansData['Loan.Length'])\n",
    "\n",
    "loansData['FICO.Score'] = loansData['FICO.Range'].astype(str)\n",
    "loansData['FICO.Score'] = map(lambda x: x.split('-'), loansData['FICO.Score'])\n",
    "loansData['FICO.Score'] = map(lambda x : x[0], loansData['FICO.Score'])\n",
    "loansData['FICO.Score'] = loansData['FICO.Score'].astype(float)"
   ]
  },
  {
   "cell_type": "code",
   "execution_count": 5,
   "metadata": {
    "collapsed": false
   },
   "outputs": [
    {
     "data": {
      "text/html": [
       "<div>\n",
       "<table border=\"1\" class=\"dataframe\">\n",
       "  <thead>\n",
       "    <tr style=\"text-align: right;\">\n",
       "      <th></th>\n",
       "      <th>Amount.Requested</th>\n",
       "      <th>Amount.Funded.By.Investors</th>\n",
       "      <th>Interest.Rate</th>\n",
       "      <th>Loan.Length</th>\n",
       "      <th>Loan.Purpose</th>\n",
       "      <th>Debt.To.Income.Ratio</th>\n",
       "      <th>State</th>\n",
       "      <th>Home.Ownership</th>\n",
       "      <th>Monthly.Income</th>\n",
       "      <th>FICO.Range</th>\n",
       "      <th>Open.CREDIT.Lines</th>\n",
       "      <th>Revolving.CREDIT.Balance</th>\n",
       "      <th>Inquiries.in.the.Last.6.Months</th>\n",
       "      <th>Employment.Length</th>\n",
       "      <th>FICO.Score</th>\n",
       "    </tr>\n",
       "  </thead>\n",
       "  <tbody>\n",
       "    <tr>\n",
       "      <th>81174</th>\n",
       "      <td>20000</td>\n",
       "      <td>20000.0</td>\n",
       "      <td>8.90</td>\n",
       "      <td>36</td>\n",
       "      <td>debt_consolidation</td>\n",
       "      <td>14.90%</td>\n",
       "      <td>SC</td>\n",
       "      <td>MORTGAGE</td>\n",
       "      <td>6541.67</td>\n",
       "      <td>735-739</td>\n",
       "      <td>14.0</td>\n",
       "      <td>14272.0</td>\n",
       "      <td>2.0</td>\n",
       "      <td>&lt; 1 year</td>\n",
       "      <td>735.0</td>\n",
       "    </tr>\n",
       "    <tr>\n",
       "      <th>99592</th>\n",
       "      <td>19200</td>\n",
       "      <td>19200.0</td>\n",
       "      <td>12.12</td>\n",
       "      <td>36</td>\n",
       "      <td>debt_consolidation</td>\n",
       "      <td>28.36%</td>\n",
       "      <td>TX</td>\n",
       "      <td>MORTGAGE</td>\n",
       "      <td>4583.33</td>\n",
       "      <td>715-719</td>\n",
       "      <td>12.0</td>\n",
       "      <td>11140.0</td>\n",
       "      <td>1.0</td>\n",
       "      <td>2 years</td>\n",
       "      <td>715.0</td>\n",
       "    </tr>\n",
       "    <tr>\n",
       "      <th>80059</th>\n",
       "      <td>35000</td>\n",
       "      <td>35000.0</td>\n",
       "      <td>21.98</td>\n",
       "      <td>60</td>\n",
       "      <td>debt_consolidation</td>\n",
       "      <td>23.81%</td>\n",
       "      <td>CA</td>\n",
       "      <td>MORTGAGE</td>\n",
       "      <td>11500.00</td>\n",
       "      <td>690-694</td>\n",
       "      <td>14.0</td>\n",
       "      <td>21977.0</td>\n",
       "      <td>1.0</td>\n",
       "      <td>2 years</td>\n",
       "      <td>690.0</td>\n",
       "    </tr>\n",
       "    <tr>\n",
       "      <th>15825</th>\n",
       "      <td>10000</td>\n",
       "      <td>9975.0</td>\n",
       "      <td>9.99</td>\n",
       "      <td>36</td>\n",
       "      <td>debt_consolidation</td>\n",
       "      <td>14.30%</td>\n",
       "      <td>KS</td>\n",
       "      <td>MORTGAGE</td>\n",
       "      <td>3833.33</td>\n",
       "      <td>695-699</td>\n",
       "      <td>10.0</td>\n",
       "      <td>9346.0</td>\n",
       "      <td>0.0</td>\n",
       "      <td>5 years</td>\n",
       "      <td>695.0</td>\n",
       "    </tr>\n",
       "    <tr>\n",
       "      <th>33182</th>\n",
       "      <td>12000</td>\n",
       "      <td>12000.0</td>\n",
       "      <td>11.71</td>\n",
       "      <td>36</td>\n",
       "      <td>credit_card</td>\n",
       "      <td>18.78%</td>\n",
       "      <td>NJ</td>\n",
       "      <td>RENT</td>\n",
       "      <td>3195.00</td>\n",
       "      <td>695-699</td>\n",
       "      <td>11.0</td>\n",
       "      <td>14469.0</td>\n",
       "      <td>0.0</td>\n",
       "      <td>9 years</td>\n",
       "      <td>695.0</td>\n",
       "    </tr>\n",
       "  </tbody>\n",
       "</table>\n",
       "</div>"
      ],
      "text/plain": [
       "       Amount.Requested  Amount.Funded.By.Investors Interest.Rate Loan.Length  \\\n",
       "81174             20000                     20000.0          8.90          36   \n",
       "99592             19200                     19200.0         12.12          36   \n",
       "80059             35000                     35000.0         21.98          60   \n",
       "15825             10000                      9975.0          9.99          36   \n",
       "33182             12000                     12000.0         11.71          36   \n",
       "\n",
       "             Loan.Purpose Debt.To.Income.Ratio State Home.Ownership  \\\n",
       "81174  debt_consolidation               14.90%    SC       MORTGAGE   \n",
       "99592  debt_consolidation               28.36%    TX       MORTGAGE   \n",
       "80059  debt_consolidation               23.81%    CA       MORTGAGE   \n",
       "15825  debt_consolidation               14.30%    KS       MORTGAGE   \n",
       "33182         credit_card               18.78%    NJ           RENT   \n",
       "\n",
       "       Monthly.Income FICO.Range  Open.CREDIT.Lines  Revolving.CREDIT.Balance  \\\n",
       "81174         6541.67    735-739               14.0                   14272.0   \n",
       "99592         4583.33    715-719               12.0                   11140.0   \n",
       "80059        11500.00    690-694               14.0                   21977.0   \n",
       "15825         3833.33    695-699               10.0                    9346.0   \n",
       "33182         3195.00    695-699               11.0                   14469.0   \n",
       "\n",
       "       Inquiries.in.the.Last.6.Months Employment.Length  FICO.Score  \n",
       "81174                             2.0          < 1 year       735.0  \n",
       "99592                             1.0           2 years       715.0  \n",
       "80059                             1.0           2 years       690.0  \n",
       "15825                             0.0           5 years       695.0  \n",
       "33182                             0.0           9 years       695.0  "
      ]
     },
     "execution_count": 5,
     "metadata": {},
     "output_type": "execute_result"
    }
   ],
   "source": [
    "loansData.head()"
   ]
  },
  {
   "cell_type": "markdown",
   "metadata": {},
   "source": [
    "Break the data-set into 10 segments following the example provided here in KFold."
   ]
  },
  {
   "cell_type": "code",
   "execution_count": 6,
   "metadata": {
    "collapsed": true
   },
   "outputs": [],
   "source": [
    "#Extract Columns\n",
    "intrate = loansData['Interest.Rate'].astype(float)\n",
    "loanamt = loansData['Amount.Requested']\n",
    "fico = loansData['FICO.Score'].astype(int)\n",
    "\n",
    "#Reshape the Data\n",
    "# The dependent variable\n",
    "y = np.matrix(intrate).transpose()\n",
    "# The independent variables shaped as columns\n",
    "x1 = np.matrix(fico).transpose()\n",
    "x2 = np.matrix(loanamt).transpose()\n",
    "x = np.column_stack([x1,x2])\n",
    "\n",
    "X = sm.add_constant(x)"
   ]
  },
  {
   "cell_type": "code",
   "execution_count": 15,
   "metadata": {
    "collapsed": false
   },
   "outputs": [],
   "source": [
    "from sklearn.cross_validation import KFold\n",
    "import sklearn.metrics as metrics\n",
    "\n",
    "kf = KFold(len(X), n_folds=10)"
   ]
  },
  {
   "cell_type": "markdown",
   "metadata": {},
   "source": [
    "Compute each of the performance metric (MAE, MSE or R2) for all the folds. The average would be the performance of your model."
   ]
  },
  {
   "cell_type": "code",
   "execution_count": 16,
   "metadata": {
    "collapsed": false
   },
   "outputs": [
    {
     "name": "stdout",
     "output_type": "stream",
     "text": [
      "Mean Absolute Error: train 1.92574828457, test 2.03526982218\n",
      "Mean Squared Error: train 5.91856408622, test 6.67721546898\n",
      "R-Squared: train 0.658869304534, test 0.634405537856\n",
      "\n",
      "Mean Absolute Error: train 1.93346982734, test 1.96086476069\n",
      "Mean Squared Error: train 5.97390630798, test 6.15688091076\n",
      "R-Squared: train 0.658648931299, test 0.63722077469\n",
      "\n",
      "Mean Absolute Error: train 1.93458991973, test 1.98855434507\n",
      "Mean Squared Error: train 5.95952150769, test 6.29592702927\n",
      "R-Squared: train 0.662470448396, test 0.596348083509\n",
      "\n",
      "Mean Absolute Error: train 1.94004506613, test 1.90918225184\n",
      "Mean Squared Error: train 6.04011482904, test 5.56199441393\n",
      "R-Squared: train 0.657893916623, test 0.643579708291\n",
      "\n",
      "Mean Absolute Error: train 1.94151286181, test 1.90098016795\n",
      "Mean Squared Error: train 5.9946167782, test 5.97575835329\n",
      "R-Squared: train 0.655387003209, test 0.665164764526\n",
      "\n",
      "Mean Absolute Error: train 1.93938230057, test 1.93012663743\n",
      "Mean Squared Error: train 5.98824212345, test 6.03414494336\n",
      "R-Squared: train 0.653296791768, test 0.681938949504\n",
      "\n",
      "Mean Absolute Error: train 1.94627437566, test 1.87801099834\n",
      "Mean Squared Error: train 6.07324061013, test 5.26861593836\n",
      "R-Squared: train 0.655874353041, test 0.661351561599\n",
      "\n",
      "Mean Absolute Error: train 1.94257040509, test 1.91271936736\n",
      "Mean Squared Error: train 5.99552639557, test 5.96557429874\n",
      "R-Squared: train 0.655239301301, test 0.668246937122\n",
      "\n",
      "Mean Absolute Error: train 1.93063848899, test 1.99059050512\n",
      "Mean Squared Error: train 5.93468780733, test 6.52133907936\n",
      "R-Squared: train 0.657253938162, test 0.650211106777\n",
      "\n",
      "Mean Absolute Error: train 1.94037617549, test 1.90562090395\n",
      "Mean Squared Error: train 6.03011419604, test 5.67545212683\n",
      "R-Squared: train 0.651748126561, test 0.692827881774\n",
      "\n"
     ]
    }
   ],
   "source": [
    "mae_train_list = []\n",
    "mae_test_list = []\n",
    "mse_train_list = []\n",
    "mse_test_list = []\n",
    "r2_train_list = []\n",
    "r2_test_list = []\n",
    "\n",
    "for train, test in kf:\n",
    "    f = sm.OLS(y[train], X[train]).fit()\n",
    "    mae_train = metrics.mean_absolute_error(y[train],\n",
    "                                            f.predict(X[train]))\n",
    "    mae_test = metrics.mean_absolute_error(y[test],\n",
    "                                           f.predict(X[test]))\n",
    "    mse_train = metrics.mean_squared_error(y[train],\n",
    "                                           f.predict(X[train]))\n",
    "    mse_test = metrics.mean_squared_error(y[test],\n",
    "                                          f.predict(X[test]))\n",
    "    r2_train = metrics.r2_score(y[train],f.predict(X[train]))\n",
    "    r2_test = metrics.r2_score(y[test],f.predict(X[test]))\n",
    "    mae_train_list.append(mae_train)\n",
    "    mae_test_list.append(mae_test)\n",
    "    mse_train_list.append(mse_train)\n",
    "    mse_test_list.append(mse_test)\n",
    "    r2_train_list.append(r2_train)\n",
    "    r2_test_list.append(r2_test)\n",
    "    print 'Mean Absolute Error: train {}, test {}'.format(mae_train, \n",
    "                                                          mae_test)\n",
    "    print 'Mean Squared Error: train {}, test {}'.format(mse_train, \n",
    "                                                         mse_test)\n",
    "    print 'R-Squared: train {}, test {}'.format(r2_train,\n",
    "                                                r2_test)\n",
    "    print ''"
   ]
  },
  {
   "cell_type": "code",
   "execution_count": 17,
   "metadata": {
    "collapsed": false
   },
   "outputs": [
    {
     "name": "stdout",
     "output_type": "stream",
     "text": [
      "Average MAE: 1.94119197599\n",
      "\n",
      "Average MSE: 6.01329025629\n",
      "\n",
      "Average R-Squared: 0.653129530565\n"
     ]
    }
   ],
   "source": [
    "avg_mse_train = sum(mse_train_list)/kf.n_folds\n",
    "avg_mse_test = sum(mse_test_list)/kf.n_folds\n",
    "avg_mae_train = sum(mae_train_list)/kf.n_folds\n",
    "avg_mae_test = sum(mae_test_list)/kf.n_folds\n",
    "avg_r2_train = sum(r2_train_list)/kf.n_folds\n",
    "avg_r2_test = sum(r2_test_list)/kf.n_folds\n",
    "\n",
    "print 'Average MAE: {}'.format(avg_mae_test)\n",
    "print '\\nAverage MSE: {}'.format(avg_mse_test)\n",
    "print '\\nAverage R-Squared: {}'.format(avg_r2_test)"
   ]
  },
  {
   "cell_type": "markdown",
   "metadata": {},
   "source": [
    "Comment on each of the performance metric you obtained."
   ]
  },
  {
   "cell_type": "code",
   "execution_count": null,
   "metadata": {
    "collapsed": true
   },
   "outputs": [],
   "source": []
  }
 ],
 "metadata": {
  "kernelspec": {
   "display_name": "Python 2",
   "language": "python",
   "name": "python2"
  },
  "language_info": {
   "codemirror_mode": {
    "name": "ipython",
    "version": 2
   },
   "file_extension": ".py",
   "mimetype": "text/x-python",
   "name": "python",
   "nbconvert_exporter": "python",
   "pygments_lexer": "ipython2",
   "version": "2.7.11"
  }
 },
 "nbformat": 4,
 "nbformat_minor": 0
}
